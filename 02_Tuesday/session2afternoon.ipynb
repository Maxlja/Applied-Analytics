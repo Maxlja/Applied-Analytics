{
 "cells": [
  {
   "cell_type": "markdown",
   "id": "d1a9424f-8f8c-467d-a5d0-8f08ce5c8d6f",
   "metadata": {},
   "source": [
    "#### Task Preprocessing"
   ]
  },
  {
   "cell_type": "markdown",
   "id": "d2f3dca4-0e1f-4e83-a273-00331c96dce8",
   "metadata": {},
   "source": [
    "Prepare the dataset by applying an appropriate normalization method to the variables. <br>\n",
    "Should you normalize the outcome variable? <br>\n",
    "Should you use the same method for all variables or decide for each variable individually?"
   ]
  },
  {
   "cell_type": "code",
   "execution_count": null,
   "id": "411339e5-90e9-4b96-88cb-74561ddc9465",
   "metadata": {},
   "outputs": [],
   "source": []
  },
  {
   "cell_type": "markdown",
   "id": "2e32afad-6fa1-4e6f-be80-fec014a2985a",
   "metadata": {},
   "source": [
    "#### Task PCA"
   ]
  },
  {
   "cell_type": "markdown",
   "id": "4364e360-ae05-42f3-88aa-aec47811859c",
   "metadata": {},
   "source": [
    "1) Perform PCA on all input variables.\n",
    "2) Use a screeplot and the elbow method to decide how many PCs should be included in further analysis. How much variance is explained by the chosen PCs?\n",
    "3) Interprete the eigenvectors/loadings of the 2 PCs with the highest eigenvalue. Use a visualization method for explanation.\n",
    "4) Split the dataset by \"Outcome\". Perform PCA for both subsets. Are there clearly visible differences in the PCs? What does that mean?"
   ]
  },
  {
   "cell_type": "code",
   "execution_count": null,
   "id": "52131da0-3d10-4625-ba26-458a0e50ff91",
   "metadata": {},
   "outputs": [],
   "source": []
  },
  {
   "cell_type": "markdown",
   "id": "2561d4cc-b1ff-42ad-adf1-ef1be179866e",
   "metadata": {},
   "source": [
    "#### Task K-Means Clustering"
   ]
  },
  {
   "cell_type": "markdown",
   "id": "2589f2e0-4679-4ddb-b45f-843cad55e74e",
   "metadata": {},
   "source": [
    "Perform the following tasks for the original (but normalized) variables and the PCA/dimension-reduced dataset. Compare how the resulst diverge.\n",
    "1) Perform K-Means with k=[1:10] clusters. Calculate Sum of Squared Errors and Silhouette Score for each clustering iteration. Visualize the Goodness of Fit for each k as scree plots. Use the Elbow Method to find the optimal number of clusters. Is it the same for both Goodness of Fit methods?\n",
    "2) Create a brief descriptive overview of the clusters. \n",
    "3) Compare if the clusters align with the outcome."
   ]
  },
  {
   "cell_type": "code",
   "execution_count": null,
   "id": "7a5e3c2c-69c8-4cfc-83c2-f279a7b8aa79",
   "metadata": {},
   "outputs": [],
   "source": []
  },
  {
   "cell_type": "markdown",
   "id": "9e34775a-86bc-4e50-8c05-bb0b41696ce2",
   "metadata": {},
   "source": [
    "#### Task Kohonen Self-Organizing Maps"
   ]
  },
  {
   "cell_type": "markdown",
   "id": "576d6f0c-ec9e-4e8e-a120-211c72db622b",
   "metadata": {},
   "source": [
    "Perform the following tasks for the original (but normalized) variables.\n",
    "1) Train a SOM on the input variables.\n",
    "2) Visualize the SOM using U-matrix and highlighting the neighbourhood distance. Calculate the Quantization Error (average Euclidean of each data point and its BMU).\n",
    "3) Vary the SOM parameters. How do changes in grid size,  learning rate, sigma (spread of the neighbourhood function) and topology affect the U-matrix/Quantization Error? Which parameters do you see as the best fit for the data?\n",
    "4) Based on your preferred parameters, Label the data points by the cluster assignment of their BMU.\n",
    "5) Compare if the clusters align with the outcome.\n",
    "6) Compare if the clusters align with the two versions of clusters (original data & dimensionality-reduced data) created by K-Means Clustering."
   ]
  },
  {
   "cell_type": "code",
   "execution_count": null,
   "id": "a1cf0b32-9157-4dbd-a2a6-e50f12f74dbf",
   "metadata": {},
   "outputs": [],
   "source": []
  }
 ],
 "metadata": {
  "kernelspec": {
   "display_name": "Python 3 (ipykernel)",
   "language": "python",
   "name": "python3"
  },
  "language_info": {
   "codemirror_mode": {
    "name": "ipython",
    "version": 3
   },
   "file_extension": ".py",
   "mimetype": "text/x-python",
   "name": "python",
   "nbconvert_exporter": "python",
   "pygments_lexer": "ipython3",
   "version": "3.12.8"
  }
 },
 "nbformat": 4,
 "nbformat_minor": 5
}
