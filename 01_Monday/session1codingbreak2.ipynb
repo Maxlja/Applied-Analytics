{
 "cells": [
  {
   "cell_type": "markdown",
   "id": "d2f3dca4-0e1f-4e83-a273-00331c96dce8",
   "metadata": {},
   "source": [
    "Load all packages you need."
   ]
  },
  {
   "cell_type": "code",
   "execution_count": null,
   "id": "1051e413-cf81-4d1f-b78e-7508f914dccc",
   "metadata": {},
   "outputs": [],
   "source": []
  },
  {
   "cell_type": "markdown",
   "id": "4bbe9055-8868-4826-9d72-29ccaeb83e19",
   "metadata": {},
   "source": [
    "Read the data."
   ]
  },
  {
   "cell_type": "code",
   "execution_count": null,
   "id": "e5450820-7e0f-4617-965d-c251c0354599",
   "metadata": {},
   "outputs": [],
   "source": []
  },
  {
   "cell_type": "markdown",
   "id": "2086e112-8b13-4034-ae7b-ea37ad18c0cc",
   "metadata": {},
   "source": [
    "Create an overview of the dataframe (variable names and types; number of observations). What is the target variable? "
   ]
  },
  {
   "cell_type": "code",
   "execution_count": null,
   "id": "85b1fedb-c1a3-4e47-8398-0deb0d831737",
   "metadata": {},
   "outputs": [],
   "source": []
  },
  {
   "cell_type": "markdown",
   "id": "822ae396-9ac9-4baa-aad1-b495eb459be9",
   "metadata": {},
   "source": [
    "Create a histogram of the variable \"BloodPressure\"."
   ]
  },
  {
   "cell_type": "code",
   "execution_count": null,
   "id": "23834628-554f-46aa-b650-b569b54bcddf",
   "metadata": {},
   "outputs": [],
   "source": []
  },
  {
   "cell_type": "markdown",
   "id": "ef5992a8-1171-45f7-aad9-1199557dca41",
   "metadata": {},
   "source": [
    "Create a scatterplot of the variables \"BloodPressure\" and \"BMI\""
   ]
  },
  {
   "cell_type": "code",
   "execution_count": null,
   "id": "5602687e-31ab-4578-86b0-bef6d3910576",
   "metadata": {},
   "outputs": [],
   "source": []
  },
  {
   "cell_type": "markdown",
   "id": "a91ba9cf-d2a7-4c88-bed5-8b0af8db3e5b",
   "metadata": {},
   "source": [
    "Run sweetviz on the dataset and inspect it."
   ]
  },
  {
   "cell_type": "code",
   "execution_count": null,
   "id": "dc2e6a50-7727-4374-9258-f86dd20b8fe0",
   "metadata": {},
   "outputs": [],
   "source": []
  }
 ],
 "metadata": {
  "kernelspec": {
   "display_name": "Python 3 (ipykernel)",
   "language": "python",
   "name": "python3"
  },
  "language_info": {
   "codemirror_mode": {
    "name": "ipython",
    "version": 3
   },
   "file_extension": ".py",
   "mimetype": "text/x-python",
   "name": "python",
   "nbconvert_exporter": "python",
   "pygments_lexer": "ipython3",
   "version": "3.12.8"
  }
 },
 "nbformat": 4,
 "nbformat_minor": 5
}
